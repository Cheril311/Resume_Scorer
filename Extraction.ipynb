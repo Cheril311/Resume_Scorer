{
 "cells": [
  {
   "cell_type": "code",
   "execution_count": 1,
   "id": "fff8cc9f",
   "metadata": {},
   "outputs": [],
   "source": [
    "import os\n",
    "rname = []\n",
    "jname = []\n",
    "dire = '/Users/cheril/Downloads/Data'    #your directory path here\n",
    "for path, subdirs, files in os.walk(dire):\n",
    "    for name in files:\n",
    "        if 'Resumes' in os.path.join(path, name):\n",
    "            if '.pdf'in os.path.join(path, name) or '.doc' in os.path.join(path, name):\n",
    "                    rname.append(os.path.join(path, name))\n",
    "        if 'JobDesc' in os.path.join(path, name):\n",
    "            if '.pdf'in os.path.join(path, name) or '.doc' in os.path.join(path, name):\n",
    "                    jname.append(os.path.join(path, name))"
   ]
  },
  {
   "cell_type": "code",
   "execution_count": 2,
   "id": "6a23885a",
   "metadata": {},
   "outputs": [],
   "source": [
    "import torch\n",
    "if torch.backends.mps.is_available():\n",
    "    device = 'mps'\n",
    "elif torch.cuda.is_available():\n",
    "    device = 'cuda'\n",
    "else:\n",
    "    device = 'cpu'"
   ]
  },
  {
   "cell_type": "code",
   "execution_count": 3,
   "id": "48329707",
   "metadata": {},
   "outputs": [],
   "source": [
    "import re\n",
    "import fitz\n",
    "import docx2txt\n",
    "\n",
    "jobd = []\n",
    "for i in jname:\n",
    "    if '.docx' in i and '$' not in i:\n",
    "        text = docx2txt.process(i)\n",
    "        text = re.sub(r'\\s+', ' ', text)\n",
    "        text = re.sub(r'[^\\x00-\\x7F]+', ' ', text)\n",
    "        jobd.append(text)\n",
    "    elif '.pdf' in i:\n",
    "        text = ''\n",
    "        DIGITIZED_FILE = i\n",
    "        with fitz.open(DIGITIZED_FILE) as doc:\n",
    "            for page in doc:\n",
    "                text += page.get_text()\n",
    "                text = re.sub(r'\\s+', ' ', text)\n",
    "                text = re.sub(r'[^\\x00-\\x7F]+', ' ', text)\n",
    "            #ptext += text\n",
    "            jobd.append(text)"
   ]
  },
  {
   "cell_type": "code",
   "execution_count": 4,
   "id": "511072b9",
   "metadata": {},
   "outputs": [],
   "source": [
    "import re\n",
    "\n",
    "resd = []\n",
    "for i in rname:\n",
    "    if '.docx' in i:\n",
    "        text = docx2txt.process(i)\n",
    "        text = re.sub(r'\\s+', ' ', text)\n",
    "        text = re.sub(r'[^\\x00-\\x7F]+', ' ', text)\n",
    "        resd.append(text)\n",
    "    elif '.pdf' in i:\n",
    "        text = ''\n",
    "        DIGITIZED_FILE = i\n",
    "        with fitz.open(DIGITIZED_FILE) as doc:\n",
    "            for page in doc:\n",
    "                text += page.get_text()\n",
    "                text = re.sub(r'\\s+', ' ', text)\n",
    "                text = re.sub(r'[^\\x00-\\x7F]+', ' ', text)\n",
    "            #ptext += text\n",
    "            resd.append(text)"
   ]
  },
  {
   "cell_type": "code",
   "execution_count": 5,
   "id": "0fc03723",
   "metadata": {},
   "outputs": [],
   "source": [
    "from transformers import AutoTokenizer, AutoModelForSequenceClassification,AutoConfig\n",
    "\n",
    "tokenizer = AutoTokenizer.from_pretrained(\"has-abi/distilBERT-finetuned-resumes-sections\")\n",
    "\n",
    "model = AutoModelForSequenceClassification.from_pretrained(\"has-abi/distilBERT-finetuned-resumes-sections\")"
   ]
  },
  {
   "cell_type": "code",
   "execution_count": 6,
   "id": "513cb3c4",
   "metadata": {},
   "outputs": [],
   "source": [
    "ace = []\n",
    "es = []\n",
    "model = model.to(device)\n",
    "for j in resd:\n",
    "    acei = []\n",
    "    esi = []\n",
    "    for i in j.split('. '):\n",
    "        inputs = tokenizer(i, return_tensors=\"pt\",truncation=True).to(device)\n",
    "        output = model(**inputs)\n",
    "        logits = output.logits\n",
    "        probs = torch.softmax(logits, dim=1)\n",
    "        predicted_class = torch.argmax(probs, dim=1)\n",
    "        if predicted_class[0].detach().cpu().numpy() == 0 or predicted_class[0].detach().cpu().numpy() == 1 or predicted_class[0].detach().cpu().numpy() == 3:\n",
    "            acei.append(i)\n",
    "        if predicted_class[0].detach().cpu().numpy() == 7 or predicted_class[0].detach().cpu().numpy() == 8 or predicted_class[0].detach().cpu().numpy() == 9 or predicted_class[0].detach().cpu().numpy() == 10:\n",
    "            esi.append(i)\n",
    "    ace.append(''.join(acei))\n",
    "    es.append(''.join(esi))"
   ]
  },
  {
   "cell_type": "code",
   "execution_count": 7,
   "id": "9e93de9e",
   "metadata": {},
   "outputs": [],
   "source": [
    "acej = []\n",
    "esj = []\n",
    "model = model.to(device)\n",
    "for j in jobd:\n",
    "    acei = []\n",
    "    esi = []\n",
    "    for i in j.split('. '):\n",
    "        inputs = tokenizer(i, return_tensors=\"pt\",truncation=True).to(device)\n",
    "        output = model(**inputs)\n",
    "        logits = output.logits\n",
    "        probs = torch.softmax(logits, dim=1)\n",
    "        predicted_class = torch.argmax(probs, dim=1)\n",
    "        if predicted_class[0].detach().cpu().numpy() == 0 or predicted_class[0].detach().cpu().numpy() == 1 or predicted_class[0].detach().cpu().numpy() == 3:\n",
    "            acei.append(i)\n",
    "        if predicted_class[0].detach().cpu().numpy() == 7 or predicted_class[0].detach().cpu().numpy() == 8 or predicted_class[0].detach().cpu().numpy() == 9 or predicted_class[0].detach().cpu().numpy() == 10:\n",
    "            esi.append(i)\n",
    "    acej.append(''.join(acei))\n",
    "    esj.append(''.join(esi))"
   ]
  },
  {
   "cell_type": "code",
   "execution_count": 8,
   "id": "614f9edb",
   "metadata": {},
   "outputs": [],
   "source": [
    "import pandas as pd\n",
    "df = pd.DataFrame()\n",
    "df['Name'] = [rname[i][rname[i].rfind(\"/\")+1:] for i in range(len(rname))]\n",
    "df['Text'] = resd\n",
    "df['ace'] = ace\n",
    "df['es'] = es"
   ]
  },
  {
   "cell_type": "code",
   "execution_count": 10,
   "id": "c3a0bb23",
   "metadata": {},
   "outputs": [],
   "source": [
    "df.to_csv('Resume_Data.csv',index=False)"
   ]
  },
  {
   "cell_type": "code",
   "execution_count": 12,
   "id": "48b80de2",
   "metadata": {},
   "outputs": [],
   "source": [
    "import pandas as pd\n",
    "dfa = pd.DataFrame()\n",
    "dfa['Name'] = [jname[i][jname[i].rfind(\"/\")+1:] for i in range(len(jname))]\n",
    "dfa['Text'] = jobd\n",
    "dfa['ace'] = acej\n",
    "dfa['es'] = esj"
   ]
  },
  {
   "cell_type": "code",
   "execution_count": 14,
   "id": "19d13aff",
   "metadata": {},
   "outputs": [],
   "source": [
    "dfa.to_csv('Jobs_Data.csv',index=False)"
   ]
  },
  {
   "cell_type": "code",
   "execution_count": null,
   "id": "e29c8b8d",
   "metadata": {},
   "outputs": [],
   "source": []
  }
 ],
 "metadata": {
  "kernelspec": {
   "display_name": "Python 3",
   "language": "python",
   "name": "python3"
  },
  "language_info": {
   "codemirror_mode": {
    "name": "ipython",
    "version": 3
   },
   "file_extension": ".py",
   "mimetype": "text/x-python",
   "name": "python",
   "nbconvert_exporter": "python",
   "pygments_lexer": "ipython3",
   "version": "3.9.16"
  }
 },
 "nbformat": 4,
 "nbformat_minor": 5
}
