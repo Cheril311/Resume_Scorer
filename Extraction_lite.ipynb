{
 "cells": [
  {
   "cell_type": "code",
   "execution_count": 1,
   "id": "fb6d6fe2",
   "metadata": {},
   "outputs": [],
   "source": [
    "import os\n",
    "rname = []\n",
    "jname = []\n",
    "dire = '/Users/cheril/Downloads/Data'    #your directory path here\n",
    "for path, subdirs, files in os.walk(dire):\n",
    "    for name in files:\n",
    "        if 'Resumes' in os.path.join(path, name):\n",
    "            if '.pdf'in os.path.join(path, name) or '.doc' in os.path.join(path, name):\n",
    "                    rname.append(os.path.join(path, name))\n",
    "        if 'JobDesc' in os.path.join(path, name):\n",
    "            if '.pdf'in os.path.join(path, name) or '.doc' in os.path.join(path, name):\n",
    "                    jname.append(os.path.join(path, name))"
   ]
  },
  {
   "cell_type": "code",
   "execution_count": 2,
   "id": "d1798c1f",
   "metadata": {},
   "outputs": [],
   "source": [
    "import torch\n",
    "if torch.backends.mps.is_available():\n",
    "    device = 'mps'\n",
    "elif torch.cuda.is_available():\n",
    "    device = 'cuda'\n",
    "else:\n",
    "    device = 'cpu'"
   ]
  },
  {
   "cell_type": "code",
   "execution_count": 3,
   "id": "e4a99c41",
   "metadata": {},
   "outputs": [],
   "source": [
    "import re\n",
    "import fitz\n",
    "import docx2txt\n",
    "\n",
    "jobd = []\n",
    "for i in jname:\n",
    "    if '.doc' in i and '$' not in i:\n",
    "        text = docx2txt.process(i)\n",
    "        text = re.sub(r'\\s+', ' ', text)\n",
    "        text = re.sub(r'[^\\x00-\\x7F]+', ' ', text)\n",
    "        jobd.append(text)\n",
    "    elif '.pdf' in i:\n",
    "        text = ''\n",
    "        DIGITIZED_FILE = i\n",
    "        with fitz.open(DIGITIZED_FILE) as doc:\n",
    "            for page in doc:\n",
    "                text += page.get_text()\n",
    "                text = re.sub(r'\\s+', ' ', text)\n",
    "                text = re.sub(r'[^\\x00-\\x7F]+', ' ', text)\n",
    "            #ptext += text\n",
    "            jobd.append(text)"
   ]
  },
  {
   "cell_type": "code",
   "execution_count": 4,
   "id": "52ac64b2",
   "metadata": {},
   "outputs": [],
   "source": [
    "import re\n",
    "\n",
    "resd = []\n",
    "for i in rname:\n",
    "    if '.doc' in i:\n",
    "        text = docx2txt.process(i)\n",
    "        text = re.sub(r'\\s+', ' ', text)\n",
    "        text = re.sub(r'[^\\x00-\\x7F]+', ' ', text)\n",
    "        resd.append(text)\n",
    "    elif '.pdf' in i:\n",
    "        text = ''\n",
    "        DIGITIZED_FILE = i\n",
    "        with fitz.open(DIGITIZED_FILE) as doc:\n",
    "            for page in doc:\n",
    "                text += page.get_text()\n",
    "                text = re.sub(r'\\s+', ' ', text)\n",
    "                text = re.sub(r'[^\\x00-\\x7F]+', ' ', text)\n",
    "            #ptext += text\n",
    "            resd.append(text)"
   ]
  },
  {
   "cell_type": "code",
   "execution_count": 8,
   "id": "46ef32a5",
   "metadata": {},
   "outputs": [],
   "source": [
    "import pandas as pd\n",
    "df = pd.DataFrame()\n",
    "df['Name'] = [rname[i][rname[i].rfind(\"/\")+1:] for i in range(len(rname))]\n",
    "df['Text'] = resd"
   ]
  },
  {
   "cell_type": "code",
   "execution_count": 10,
   "id": "65f4ae8a",
   "metadata": {},
   "outputs": [],
   "source": [
    "df.to_csv('Resume_Data.csv',index=False)"
   ]
  },
  {
   "cell_type": "code",
   "execution_count": 12,
   "id": "f7cdf9cd",
   "metadata": {},
   "outputs": [],
   "source": [
    "import pandas as pd\n",
    "dfa = pd.DataFrame()\n",
    "dfa['Name'] = [jname[i][jname[i].rfind(\"/\")+1:] for i in range(len(jname))]\n",
    "dfa['Text'] = jobd"
   ]
  },
  {
   "cell_type": "code",
   "execution_count": 14,
   "id": "6f1f96d0",
   "metadata": {},
   "outputs": [],
   "source": [
    "dfa.to_csv('Jobs_Data.csv',index=False)"
   ]
  },
  {
   "cell_type": "code",
   "execution_count": null,
   "id": "b6cdd9ac",
   "metadata": {},
   "outputs": [],
   "source": []
  }
 ],
 "metadata": {
  "kernelspec": {
   "display_name": "Python 3",
   "language": "python",
   "name": "python3"
  },
  "language_info": {
   "codemirror_mode": {
    "name": "ipython",
    "version": 3
   },
   "file_extension": ".py",
   "mimetype": "text/x-python",
   "name": "python",
   "nbconvert_exporter": "python",
   "pygments_lexer": "ipython3",
   "version": "3.9.16"
  }
 },
 "nbformat": 4,
 "nbformat_minor": 5
}
