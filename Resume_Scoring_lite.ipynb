{
 "cells": [
  {
   "cell_type": "code",
   "execution_count": 221,
   "id": "b71f4c50",
   "metadata": {},
   "outputs": [],
   "source": [
    "import pandas as pd\n",
    "Resume = pd.read_csv('Resume_Data.csv')\n",
    "Jobs = pd.read_csv('Jobs_Data.csv')"
   ]
  },
  {
   "cell_type": "code",
   "execution_count": 241,
   "id": "bc7bafc1",
   "metadata": {},
   "outputs": [],
   "source": [
    "Jobs = Jobs.fillna('')\n",
    "Resume = Resume.fillna('')"
   ]
  },
  {
   "cell_type": "code",
   "execution_count": 222,
   "id": "7b9147d4",
   "metadata": {},
   "outputs": [],
   "source": [
    "import torch\n",
    "if torch.backends.mps.is_available():\n",
    "    device = 'mps'\n",
    "elif torch.cuda.is_available():\n",
    "    device = 'cuda'\n",
    "else:\n",
    "    device = 'cpu'"
   ]
  },
  {
   "cell_type": "code",
   "execution_count": 224,
   "id": "16ceeab3",
   "metadata": {},
   "outputs": [],
   "source": [
    "index = 1    #Select the index of the Job Description you want\n",
    "query = Jobs['Text'].iloc[index]"
   ]
  },
  {
   "cell_type": "code",
   "execution_count": 244,
   "id": "299524c3",
   "metadata": {},
   "outputs": [],
   "source": [
    "from sentence_transformers import SentenceTransformer, util\n",
    "\n",
    "model = SentenceTransformer('sentence-transformers/all-mpnet-base-v2')\n",
    "model = model.to(device)\n",
    "\n",
    "#Compute embedding for both lists\n",
    "resume_embedding = model.encode(Resume['Text'].to_list(), convert_to_tensor=True)\n",
    "query_embedding = model.encode(query, convert_to_tensor=True)\n",
    "whole_ranks = util.cos_sim(query_embedding, resume_embedding)[0].detach().cpu().numpy()\n",
    "#whole_ranks[query] = cos_scores.detach().cpu().numpy()"
   ]
  },
  {
   "cell_type": "code",
   "execution_count": 257,
   "id": "2565b613",
   "metadata": {},
   "outputs": [],
   "source": [
    "Resume['Scores'] = whole_ranks\n",
    "\n",
    "Ranked_resumes = Resume.sort_values(\n",
    "    by=['Scores'], ascending=False).reset_index(drop=True)\n",
    "\n",
    "Ranked_resumes['Rank'] = pd.DataFrame(\n",
    "    [i for i in range(1, len(Ranked_resumes['Scores'])+1)])"
   ]
  },
  {
   "cell_type": "code",
   "execution_count": 265,
   "id": "3eb7c834",
   "metadata": {},
   "outputs": [
    {
     "name": "stdout",
     "output_type": "stream",
     "text": [
      "Mass Communication Specialist.docx\n",
      "Resume Name:  Mass Communication Specialist.pdf \t Score:  0.8914397\n",
      "Resume Name:  SOCIAL MEDIA MARKETING MANAGER_SALES.pdf \t Score:  0.6355339\n",
      "Resume Name:  `contact Center representative.pdf \t Score:  0.6148448\n",
      "Resume Name:  SERVICE SUPPORT ENGINEER.pdf \t Score:  0.6082453\n",
      "Resume Name:  Main Graphic Designer.pdf \t Score:  0.5744435\n",
      "Resume Name:  MEDIA SPECIALIST PHOTOGRPHER VIDEOGRAPHER.pdf \t Score:  0.5604631\n",
      "Resume Name:  Station Manager_Informaion and Security Controller.pdf \t Score:  0.5515714\n",
      "Resume Name:  HR Relations Manager.docx \t Score:  0.5483383\n",
      "Resume Name:  Project_Manager_amna.pdf \t Score:  0.54008377\n",
      "Resume Name:  Executive Licensing_inspector.pdf \t Score:  0.5108805\n",
      "Resume Name:  Section Head_IT Infrastructure.pdf \t Score:  0.48866054\n",
      "Resume Name:  HR Officer.pdf \t Score:  0.47090238\n",
      "Resume Name:  Manager Key Accounts.docx \t Score:  0.44939417\n",
      "Resume Name:  Legal Advisor.pdf \t Score:  0.41708115\n",
      "Resume Name:  EService Provisioning Officer.pdf \t Score:  0.41428822\n",
      "Resume Name:  Administrator.docx \t Score:  0.40426147\n",
      "Resume Name:  Network Engineer_IT.pdf \t Score:  0.40269935\n",
      "Resume Name:  Acting Manager_Learning.pdf \t Score:  0.36699885\n",
      "Resume Name:  Assistant Auditor_a.pdf \t Score:  0.15758458\n",
      "Resume Name:  NUCLEAR ENGINEERING.pdf \t Score:  0.12531176\n",
      "Resume Name:  Postgraduate Teaching Assistant .pdf \t Score:  0.11022961\n"
     ]
    }
   ],
   "source": [
    "Ranked_resumes.to_csv('Ranked_resumes.csv',index=False)"
   ]
  }
 ],
 "metadata": {
  "kernelspec": {
   "display_name": "Python 3",
   "language": "python",
   "name": "python3"
  },
  "language_info": {
   "codemirror_mode": {
    "name": "ipython",
    "version": 3
   },
   "file_extension": ".py",
   "mimetype": "text/x-python",
   "name": "python",
   "nbconvert_exporter": "python",
   "pygments_lexer": "ipython3",
   "version": "3.9.16"
  }
 },
 "nbformat": 4,
 "nbformat_minor": 5
}
